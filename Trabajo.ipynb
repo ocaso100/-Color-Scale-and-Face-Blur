{
 "cells": [
  {
   "cell_type": "markdown",
   "metadata": {},
   "source": [
    "IMPORTAR LIBRERIAS NECESARIAS"
   ]
  },
  {
   "cell_type": "code",
   "execution_count": 2,
   "metadata": {},
   "outputs": [],
   "source": [
    "import cv2\n",
    "\n",
    "faceClassif = cv2.CascadeClassifier('haarcascade_frontalface_default.xml')"
   ]
  },
  {
   "cell_type": "markdown",
   "metadata": {},
   "source": [
    "CODIGO PRINCIPAL"
   ]
  },
  {
   "cell_type": "code",
   "execution_count": 3,
   "metadata": {},
   "outputs": [],
   "source": [
    "#UNA FUNCION VACIA A LA CUAL PODEMOS AGREGAR NUEVAS INSTRUCCIONES\n",
    "def nothing(x):\n",
    "    pass\n",
    "\n",
    "cap = cv2.VideoCapture(0)\n",
    "#CREACION DE LA VENTANA PRINCIPAL\n",
    "cv2.namedWindow('frame')\n",
    "#CREACION DE LOS TRACKBAR PARA LAS DISTINTAS ESCALAS DE COLORES\n",
    "cv2.createTrackbar('Blur','frame',0,15,nothing)\n",
    "cv2.createTrackbar('Gray','frame',0,1,nothing)\n",
    "cv2.createTrackbar('HSV','frame',0,1,nothing)\n",
    "cv2.createTrackbar('BGR','frame',0,1,nothing)\n",
    "\n",
    "\n",
    "while True:    \n",
    "    ret,frame = cap.read()    \n",
    "    \n",
    "    val = cv2.getTrackbarPos('Blur','frame')\n",
    "    grayVal=cv2.getTrackbarPos('Gray','frame')\n",
    "    hsvVal = cv2.getTrackbarPos('HSV','frame')\n",
    "    bgrVal = cv2.getTrackbarPos('BGR','frame')\n",
    "    \n",
    "    \n",
    "    if grayVal == 1:\n",
    "        frame = cv2.cvtColor(frame, cv2.COLOR_BGR2GRAY)\n",
    "        \n",
    "    if hsvVal == 1:\n",
    "        frame = cv2.cvtColor(frame, cv2.COLOR_BGR2HSV)\n",
    "    if bgrVal == 1:\n",
    "        frame = cv2.cvtColor(frame, cv2.COLOR_BGR2RGB)\n",
    "        \n",
    "\n",
    "    faces = faceClassif.detectMultiScale(frame, 1.3, 5)\n",
    "\n",
    "    for (x,y,w,h) in faces:\n",
    "        font = cv2.FONT_HERSHEY_SIMPLEX \n",
    "        cv2.putText(frame, 'Rostro', (x,y+h+20), font,0.8, (255,0,0), 1, cv2.LINE_AA)\n",
    "        cv2.rectangle(frame,(x,y),(x+w,y+h),(0,255,0),2)\n",
    "        if val > 0: \n",
    "            frame[y:y+h,x:x+w] = cv2.blur(frame[y:y+h,x:x+w],(val,val))\n",
    "            cv2.putText(frame, 'Rostro Bloqueado', (x,y+h+20), font,0.8, (255,0,0), 1, cv2.LINE_AA)\n",
    "            cv2.rectangle(frame,(x,y),(x+w,y+h),(0,0,255),2)\n",
    "            \n",
    "    cv2.imshow('frame',frame)\n",
    "    k = cv2.waitKey(1) & 0xFF\n",
    "    if k == 27:\n",
    "        break\n",
    "        \n",
    "        \n",
    "cap.release()\n",
    "cv2.destroyAllWindows()"
   ]
  }
 ],
 "metadata": {
  "kernelspec": {
   "display_name": "Python 3",
   "language": "python",
   "name": "python3"
  },
  "language_info": {
   "codemirror_mode": {
    "name": "ipython",
    "version": 3
   },
   "file_extension": ".py",
   "mimetype": "text/x-python",
   "name": "python",
   "nbconvert_exporter": "python",
   "pygments_lexer": "ipython3",
   "version": "3.7.0"
  }
 },
 "nbformat": 4,
 "nbformat_minor": 4
}
